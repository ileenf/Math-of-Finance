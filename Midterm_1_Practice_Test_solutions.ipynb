{
 "cells": [
  {
   "cell_type": "markdown",
   "metadata": {},
   "source": [
    "## Question 1\n",
    "\n",
    "The share price of AAPL varies in a random manner, such that the price increase each minute is described by a discrete random variable $X$, with the following probabilities:\n",
    "\n",
    "$$ f_X(x) = \n",
    "  \\begin{cases} \n",
    "   0.5, &  x = +0.05 \\\\\n",
    "   0.2, &  x = 0.00 \\\\\n",
    "   0.3, &  x = -0.05\n",
    "  \\end{cases}\n",
    "$$\n",
    " Use the central limit theorem to estimate the probability that the price will increase by \\$1.20, or more, after 3 hours.\n"
   ]
  },
  {
   "cell_type": "code",
   "execution_count": 4,
   "metadata": {},
   "outputs": [
    {
     "name": "stdout",
     "output_type": "stream",
     "text": [
      "0.847549105910606\n"
     ]
    }
   ],
   "source": [
    "from scipy.stats import norm\n",
    "\n",
    "def calculate_probability(mu, sigma, n, x):\n",
    "    # Calculate the standard deviation of the sampling distribution\n",
    "    sigma_sample = sigma* n**0.5\n",
    "    # Calculate the Z-score \n",
    "    z_score = (x - n*mu) / sigma_sample\n",
    "    # Calculate the probability using the cumulative distribution function (CDF)\n",
    "    probability = norm.cdf(z_score)\n",
    "    \n",
    "    return probability\n",
    "    \n",
    "\n",
    "mu=0.01\n",
    "sigma=0.0019**0.5\n",
    "P=calculate_probability(mu, sigma, 60*3, 1.2)\n",
    "print(1-P)"
   ]
  },
  {
   "cell_type": "markdown",
   "metadata": {},
   "source": [
    "## Question 2\n",
    "\n",
    "\n",
    "A bookmaker offers a promotional deal: you get $\\$100$ if you deposit at least $\\$1000$ or more in your account. The catch is you have to bet at least $\\$1000$ on their site before you take out your money. The different bets on the website are listed below. You decide to deposit $\\$1000$. What is the maximum gaurenteed amount you can withdraw?\n",
    "\n",
    "1. **Tennis: Serena Williams vs. Naomi Osaka**\n",
    "   - Serena Williams to win: 4/5\n",
    "   - Naomi Osaka to win: 1/1\n",
    "\n",
    "2. **Basketball: Los Angeles Lakers vs. Boston Celtics**\n",
    "   - Los Angeles Lakers to win: 6/4\n",
    "   - Boston Celtics to win: 1/2\n",
    "\n",
    "3. **Soccer: Manchester City vs. Liverpool**\n",
    "   - Manchester City to win: 1/3\n",
    "   - Liverpool to win: 2/1\n",
    "\n",
    "4. **Boxing: Anthony Joshua vs. Tyson Fury**\n",
    "   - Anthony Joshua to win: 1/1\n",
    "   - Tyson Fury to win: 4/6\n",
    "\n",
    "5. **Horse Racing: Horse A vs. Horse B in a head-to-head matchup**\n",
    "   - Horse A to win: 2/1\n",
    "   - Horse B to win: 2/5\n",
    "\n",
    "6. **Football: New England Patriots vs. Dallas Cowboys**\n",
    "   - New England Patriots to win: 10/11\n",
    "   - Dallas Cowboys to win: 10/11\n",
    "\n",
    "7. **Golf: Head-to-head matchup  - Rory McIlroy vs. Dustin Johnson**\n",
    "   - Rory McIlroy to win: 5/6\n",
    "   - Dustin Johnson to win: 5/6\n",
    "\n",
    "\n",
    "\n",
    "\n"
   ]
  },
  {
   "cell_type": "code",
   "execution_count": 14,
   "metadata": {},
   "outputs": [
    {
     "name": "stdout",
     "output_type": "stream",
     "text": [
      "Amount to bet on Team A: 500.0\n",
      "Maximum Arbitrage Value: -45.45\n",
      "Gaurenteed Profit: 54.55\n"
     ]
    }
   ],
   "source": [
    "def calculate_arbitrage(odds1, odds2, n):\n",
    "    \"\"\"Determines if there's an arbitrage opportunity and calculates the maximum arbitrage value.\"\"\"\n",
    "    product = odds1 * odds2\n",
    "    x=n*(1+odds2)/(2+odds1+odds2)\n",
    "    max_arbitrage_value = n*(product-1)/(2+odds1+odds2)\n",
    "    return  max_arbitrage_value, round(x,2)\n",
    "\n",
    "# These odds give you the closest odds to an arbitrage opportunity\n",
    "# we want a/b x c/d to be as high as possible\n",
    "odds_team_X = 10/11\n",
    "odds_team_Y = 10/11\n",
    "\n",
    "\n",
    "# Calculate arbitrage\n",
    "max_arbitrage_value, x = calculate_arbitrage(odds_team_X, odds_team_Y, 1000)\n",
    "\n",
    "print(f\"Amount to bet on Team A: {x}\")\n",
    "print(f\"Maximum Arbitrage Value: {max_arbitrage_value:.2f}\")\n",
    "#But remeber we get $100 free, so max profit=100+Maximum Arbitrage Value\n",
    "print((f\"Gaurenteed Profit: {100+max_arbitrage_value:.2f}\"))\n"
   ]
  },
  {
   "cell_type": "markdown",
   "metadata": {},
   "source": [
    "## Problem 3\n",
    "You are analyzing an options market where the current price of the underlying stock is $\\$150$. There is a European call option priced at $\\$10$ at a strike price of $E$ and a corresponding European put option priced at $\\$7$ at a strike price of $E$. Both options have the same expiration date, 1 year from now. The annual risk-free interest rate is 4%.\n",
    "\n",
    "Using the put-call parity principle, determine the strike price $E$ of these options. Round to the nearest cent.\n"
   ]
  },
  {
   "cell_type": "code",
   "execution_count": 5,
   "metadata": {},
   "outputs": [
    {
     "name": "stdout",
     "output_type": "stream",
     "text": [
      "The strike price E is $153.00\n"
     ]
    }
   ],
   "source": [
    "# Solution for 3\n",
    "\n",
    "import numpy as np\n",
    "\n",
    "\n",
    "C = 10  # Price of the call option\n",
    "P = 7   # Price of the put option\n",
    "S0 = 150  # Current price of the underlying stock\n",
    "r = 0.04  # Annual risk-free interest rate\n",
    "T = 1    # Time to expiration in years\n",
    "\n",
    "# Calculate the strike price E using the rearranged put-call parity equation\n",
    "E = (S0 - C + P) / np.exp(-r * T)\n",
    "\n",
    "print(f\"The strike price E is ${E:.2f}\" )\n"
   ]
  },
  {
   "cell_type": "markdown",
   "metadata": {},
   "source": [
    "## Problem 4\n",
    "\n",
    "Given the function $ f(x, y) = x^3 - 2xy + e^y $, use a two-dimensional Taylor series expansion to approximate the value of the function at the point $ (1.1, 0.1) $, based on its expansion around the point $ (1, 0) $.\n",
    "\n",
    "Consider terms up to and including the second order in your expansion."
   ]
  },
  {
   "cell_type": "markdown",
   "metadata": {},
   "source": [
    "## Solution for 4\n",
    "\n",
    "To approximate the value of the function $ f(x, y) = x^3 - 2xy + e^y $ at the point $ (1.1, 0.1) $, using a two-dimensional Taylor series expansion around the point $ (1, 0) $ and considering terms up to and including the second order, we proceed as follows:\n",
    "\n",
    "The two-dimensional Taylor series expansion of a function $ f(x, y) $ around a point $ (a, b) $ is given by:\n",
    "\n",
    "$$ f(x, y) \\approx f(a, b) + f_x(a, b)(x - a) + f_y(a, b)(y - b)+ \\frac{1}{2} \\left[ f_{xx}(a, b)(x - a)^2 + 2f_{xy}(a, b)(x - a)(y - b) + f_{yy}(a, b)(y - b)^2 \\right] $$\n",
    "\n",
    "where:\n",
    "- $ f_x $ and $ f_y $ are the first partial derivatives of $ f $ with respect to $ x $ and $ y $, respectively.\n",
    "- $ f_{xx} $, $ f_{xy} $, and $ f_{yy} $ are the second partial derivatives of $ f $ with respect to $ x $ and $ y $.\n",
    "\n",
    "First, we compute the necessary derivatives:\n",
    "\n",
    "1. $ f_x(x, y) = 3x^2 - 2y $\n",
    "2. $ f_y(x, y) = -2x + e^y$\n",
    "3. $ f_{xx}(x, y) = 6x $\n",
    "4. $ f_{xy}(x, y) = -2 $\n",
    "5. $ f_{yy}(x, y) = e^y $\n",
    "\n",
    "Evaluating these derivatives at the point $ (1, 0) $:\n",
    "\n",
    "1. $ f_x(1, 0)  = 3 $\n",
    "2. $ f_y(1, 0) = -1 $\n",
    "3. $ f_{xx}(1, 0) = 6$\n",
    "4. $ f_{xy}(1, 0) = -2 $\n",
    "5. $ f_{yy}(1, 0) = 1$\n",
    "\n",
    "We also have f(1, 0) =  2 $.\n",
    "\n",
    "Now, we can use the Taylor series expansion formula to approximate $ f(1.1, 0.1) $:\n",
    "\n",
    "$$ f(1.1, 0.1) \\approx 2 + 3(1.1 - 1) - 1(0.1 - 0) + \\frac{1}{2} \\left[ 6(1.1 - 1)^2 + 2 \\cdot (-2)(1.1 - 1)(0.1 - 0) + 1(0.1 - 0)^2 \\right] =2.215$$\n",
    "\n",
    "\n",
    "\n",
    "Thus, using a two-dimensional Taylor series expansion up to the second order, we approximate the value of the function $ f(x, y) $ at the point $ (1.1, 0.1) $ to be  2.215."
   ]
  },
  {
   "cell_type": "markdown",
   "metadata": {},
   "source": [
    "## Problem 5\n",
    "\n",
    "In probability theory, the logit-normal distribution arises when the logit of a random variable follows a normal distribution. Specifically, if $ Y $ is a random variable with a normal distribution, and $ h $ is the standard logistic function given by $ h(y) = \\frac{1}{1 + e^{-y}} $, then the random variable $ X = h(Y)$ has a logit-normal distribution. \n",
    "\n",
    "\n",
    "Given a random variable $ Y $ that follows a normal distribution with mean $ \\mu $ and variance $ \\sigma^2 $, derive the PDF of the random variable $ X = h(Y) $, where $ X $ has a logit-normal distribution.\n"
   ]
  },
  {
   "cell_type": "markdown",
   "metadata": {},
   "source": [
    "## Solution for 5\n",
    "\n",
    "To derive the PDF of the random variable $ X = h(Y) $ with $ Y $ having a normal distribution with mean $ \\mu $ and variance $ \\sigma^2 $, and $ h(y) = \\frac{1}{1 + e^{-y}} $ being the standard logistic function, we will use the transformation of variables technique.\n",
    "\n",
    "First, we need to find the inverse of the logistic function $ h(y) $, which will give us $ h^{-1}(x) $. Since $ h(y) = \\frac{1}{1 + e^{-y}} $, we can solve for $ y $ in terms of $ x $ as follows:\n",
    "\n",
    "$$\n",
    "x = \\frac{1}{1 + e^{-y}}\n",
    "$$\n",
    "\n",
    "Rearranging terms, we get:\n",
    "\n",
    "$$\n",
    "e^{-y} = \\frac{1}{x} - 1\n",
    "$$\n",
    "\n",
    "Taking the natural logarithm on both sides:\n",
    "\n",
    "$$\n",
    "-y = \\ln\\left(\\frac{1}{x} - 1\\right)\n",
    "$$\n",
    "\n",
    "Therefore, the inverse function $ h^{-1}(x) = -\\ln\\left(\\frac{1}{x} - 1\\right) $.\n",
    "\n",
    "Next, we need to compute the derivative of $ h^{-1}(x) $ with respect to $x $:\n",
    "\n",
    "$$\n",
    "\\frac{d}{dx} h^{-1}(x) = \\frac{d}{dx} \\left( -\\ln\\left(\\frac{1}{x} - 1\\right) \\right)\n",
    "$$\n",
    "\n",
    "Using the chain rule:\n",
    "\n",
    "$$\n",
    "\\frac{d}{dx} h^{-1}(x) = -\\frac{1}{\\frac{1}{x} - 1} \\cdot \\left(-\\frac{1}{x^2}\\right) = \\frac{1}{x(1-x)}\n",
    "$$\n",
    "\n",
    "Now, since $ Y $ follows a normal distribution with mean $\\mu $ and variance $\\sigma^2 $, the PDF of $ Y $, $ p_Y(y) $, is given by:\n",
    "\n",
    "$$\n",
    "p_Y(y) = \\frac{1}{\\sigma\\sqrt{2\\pi}} e^{-\\frac{(y-\\mu)^2}{2\\sigma^2}}\n",
    "$$\n",
    "\n",
    "Using the transformation of variables formula for a monotone trnasformation (found in the midterm review file), the PDF $ p_X(x) $ of $ X = h(Y) $ is:\n",
    "\n",
    "$$\n",
    "p_X(x) = p_Y(h^{-1}(x)) \\left| \\frac{d}{dx} h^{-1}(x) \\right|\n",
    "$$\n",
    "\n",
    "Substituting $ h^{-1}(x) $ and its derivative:\n",
    "\n",
    "$$\n",
    "p_X(x) = \\frac{1}{\\sigma\\sqrt{2\\pi}} e^{-\\frac{(-\\ln(\\frac{1}{x} - 1)-\\mu)^2}{2\\sigma^2}} \\cdot \\left|\\frac{1}{x(1-x)}\\right|\n",
    "$$\n",
    "\n",
    "Simplifying, we get the PDF of $ X $:\n",
    "\n",
    "$$\n",
    "p_X(x) = \\frac{1}{\\sigma\\sqrt{2\\pi} x(1-x)} e^{-\\frac{(\\ln(\\frac{1}{x} - 1)+\\mu)^2}{2\\sigma^2}}\n",
    "$$\n",
    "\n",
    "This is the PDF of the logit-normal distribution for the random variable $ X $ when $ Y $ is normally distributed with mean $ \\mu $ and variance $\\sigma^2$."
   ]
  }
 ],
 "metadata": {
  "kernelspec": {
   "display_name": "bridge_test",
   "language": "python",
   "name": "python3"
  },
  "language_info": {
   "codemirror_mode": {
    "name": "ipython",
    "version": 3
   },
   "file_extension": ".py",
   "mimetype": "text/x-python",
   "name": "python",
   "nbconvert_exporter": "python",
   "pygments_lexer": "ipython3",
   "version": "3.11.4"
  }
 },
 "nbformat": 4,
 "nbformat_minor": 2
}

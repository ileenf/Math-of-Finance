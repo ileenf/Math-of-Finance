{
 "cells": [
  {
   "cell_type": "markdown",
   "metadata": {},
   "source": [
    "## Introduction to Sports Betting Odds\n",
    "\n",
    "Odds in sports betting represent the likelihood of an event and the potential return on a winning bet. There are three main types of odds: Decimal, Fractional, and American.\n",
    "\n",
    "### Decimal Odds\n",
    "\n",
    "- **Format**: Total return for each unit bet.\n",
    "- **Example**: Odds of 4.00 mean for every $\\$1$ bet, total return is $\\$4$ ($\\$1$ bet + $\\$3$ profit).\n",
    "\n",
    "### Fractional Odds\n",
    "\n",
    "- **Format**: Profit relative to stake, shown as a fraction.\n",
    "- **Example**: Odds of 3/1 (read as \"three-to-one\") mean for every $\\$1$ bet, profit is $\\$3$.\n",
    "\n",
    "### American Odds\n",
    "\n",
    "- **Format**: Positive and negative numbers indicating profit on $\\$100$ bet or amount to bet for $\\$100$ profit.\n",
    "- **Example**: +150 means win $\\$150$ on a $\\$100$ bet; -150 means need to bet $\\$150$ to win $\\$100$.\n"
   ]
  },
  {
   "cell_type": "markdown",
   "metadata": {},
   "source": [
    "## Odds for 2024 US Election Betting\n",
    "\n",
    "| Winning Party    | American Odds | Decimal Odds | Fractional Odds | Implied Probability |\n",
    "|------------------|---------------|--------------|-----------------|---------------------|\n",
    "| Republican Party | -135          | 1.74         | 20/27           | 57.45%              |\n",
    "| Democratic Party | -105          | 1.95         | 20/21           | 51.22%              |\n",
    "| Any Other Party  | +2000         | 21.00        | 20/1            | 4.76%               |\n",
    "\n",
    "\n"
   ]
  },
  {
   "cell_type": "markdown",
   "metadata": {},
   "source": [
    "## Arbitrage Conditions in Sports Betting\n",
    "\n",
    "Arbitrage in sports betting occurs when you can place bets on all possible outcomes of an event and still guarantee a profit, regardless of the result.\n",
    "\n",
    "### Scenario\n",
    "- Bet on Team A with odds of $O_A:1$, betting an amount $x$.\n",
    "- Bet on Team B with odds of $O_B:1$, betting an amount $n - x$.\n",
    "\n",
    "### Profit Equations\n",
    "- **Profit if Team A wins**: $-(n - x) + O_A \\times x$\n",
    "- **Profit if Team B wins**: $O_B \\times (n - x) -  x$\n",
    "\n",
    "### Arbitrage Conditions\n",
    "To ensure a guaranteed fixed profit (or loss) $p^*$ regardless of the outcome, we set the profits equal:\n",
    "\n",
    "$$ \\text{Profit (Team A wins)} = \\text{Profit (Team B wins)} $$\n",
    "\n",
    "This leads to the following solutions for the optimal betting amount $x^*$ and fixed profit $p^*$:\n",
    "\n",
    "- **Optimal Betting Amount on Team A** ($x^*$):\n",
    "  $$ x^* = \\frac{n(1 + O_B)}{2 + O_A + O_B} $$\n",
    "- **Fixed Profit** ($p^*$):\n",
    "  $$ p^* = \\frac{n(O_A \\times O_B - 1)}{2 + O_A + O_B} $$\n",
    "\n",
    "### Condition for Positive Profit\n",
    "For $p^*$ to be positive (indicating an arbitrage opportunity):\n",
    "\n",
    "$$ O_A \\times O_B > 1 $$\n",
    "\n",
    "If $O_A \\times O_B > 1$, a risk-free profit opportunity exists. This condition serves as a quick test to identify potential arbitrage opportunities before detailed analysis.\n"
   ]
  },
  {
   "cell_type": "markdown",
   "metadata": {},
   "source": [
    "### Problem 1\n",
    "\n",
    "Evaluate if there's an arbitrage opportunity in each of the following scenarios based on the given fractional odds.\n",
    "\n",
    "\n",
    "- **Team A**: 5/4 vs **Team B**: 4/3\n",
    "\n",
    "\n",
    "- **Team A**: 6/5 vs **Team B**: 1/1\n",
    "\n",
    "\n",
    "- **Team A**: 2/3 vs **Team B**: 3/2\n",
    "\n",
    "\n",
    "- **Team A**: 7/4 vs **Team B**: 2/1\n",
    "\n",
    "\n",
    "- **Team A**: 1/2 vs **Team B**: 3/4\n",
    "\n",
    "**Task**: Figure out if there is abitrage and if there is, what is the maximum no-risk profit you can achieve."
   ]
  },
  {
   "cell_type": "code",
   "execution_count": 7,
   "metadata": {},
   "outputs": [
    {
     "name": "stdout",
     "output_type": "stream",
     "text": [
      "Arbitrage Opportunity: True\n",
      "Amount to bet on Team A: 38.46\n",
      "Maximum Arbitrage Value: 53.85\n"
     ]
    }
   ],
   "source": [
    "\n",
    "def calculate_arbitrage(odds1, odds2, n):\n",
    "    \"\"\"Determines if there's an arbitrage opportunity and calculates the maximum arbitrage value.\"\"\"\n",
    "    product = odds1 * odds2\n",
    "    if product < 1:\n",
    "        return False, 0, \"Don't invest any money!\"  # No arbitrage opportunity\n",
    "    x=n*(1+odds2)/(2+odds1+odds2)\n",
    "    max_arbitrage_value = n*(product-1)/(2+odds1+odds2)\n",
    "    return True, max_arbitrage_value, round(x,2)\n",
    "\n",
    "# Problem 1  fractional odds\n",
    "odds_team_X = 3/1\n",
    "odds_team_Y = 3/2\n",
    "\n",
    "\n",
    "# Calculate arbitrage\n",
    "is_arbitrage, max_arbitrage_value, x = calculate_arbitrage(odds_team_X, odds_team_Y, 100)\n",
    "\n",
    "print(f\"Arbitrage Opportunity: {is_arbitrage}\")\n",
    "print(f\"Amount to bet on Team A: {x}\")\n",
    "print(f\"Maximum Arbitrage Value: {max_arbitrage_value:.2f}\")"
   ]
  },
  {
   "cell_type": "markdown",
   "metadata": {},
   "source": [
    "## Sample Midterm Q1\n",
    "\n",
    "On this Sunday over 100 million viewers in 200 countries wil watch the New\n",
    "England Patriots play the Los Angeles Rams in the Super Bowl, the National Football\n",
    "League championship game. During your discussion section this week you learn that\n",
    "Guangchu believes the Patriots will win and is giving 9:1 odds. Frank is a fan of the Los\n",
    "Angeles Rams, and eh is giving 4:1 odds. You seek to bet a total of $300 with Guangchu\n",
    "and Frank and capture the maximum guaranteed, risk-free arbitrage profit.\n",
    "\n",
    "1. How much should you bet with Guangchu and with Frank?\n",
    "2. What is your profit?\n",
    "3. Assume Guangchu is making a fair bet. What is the implied probability\n",
    "that Guangchu assigns to the Patriots winning"
   ]
  },
  {
   "cell_type": "markdown",
   "metadata": {},
   "source": [
    "x = amount bet with Guangchu\n",
    "\n",
    "\n",
    "|                  | Patriots Win  | Rams Win     | \n",
    "|------------------|---------------|--------------|\n",
    "| Guangchu         | -x            | +9x          |\n",
    "| Frank            | +4(300-x)      | -(300-x)    |\n"
   ]
  },
  {
   "cell_type": "code",
   "execution_count": 8,
   "metadata": {},
   "outputs": [
    {
     "name": "stdout",
     "output_type": "stream",
     "text": [
      "\n",
      "Arbitrage Opportunity: True\n",
      "Amount to bet with Guangchu: 100.0\n",
      "Maximum Arbitrage Value (profit): 700.00\n"
     ]
    }
   ],
   "source": [
    "# Calculate arbitrage\n",
    "odds_team_patriots = 9/1\n",
    "odds_team_rams = 4/1\n",
    "is_arbitrage, max_arbitrage_value, x = calculate_arbitrage(odds_team_patriots, odds_team_rams, 300)\n",
    "\n",
    "print(f\"\\nArbitrage Opportunity: {is_arbitrage}\")\n",
    "print(f\"Amount to bet with Guangchu: {x}\")\n",
    "print(f\"Maximum Arbitrage Value (profit): {max_arbitrage_value:.2f}\")"
   ]
  },
  {
   "cell_type": "markdown",
   "metadata": {},
   "source": [
    "implied prob Guangchu assigns to patriots winning:\n",
    "  $$ p_A = \\frac{O_A}{1 + O_A} $$\n",
    "\n",
    "or E(winnings) = 0"
   ]
  },
  {
   "cell_type": "code",
   "execution_count": 10,
   "metadata": {},
   "outputs": [
    {
     "data": {
      "text/plain": [
       "0.9"
      ]
     },
     "execution_count": 10,
     "metadata": {},
     "output_type": "execute_result"
    }
   ],
   "source": [
    "odds_team_patriots / (1 + odds_team_patriots)"
   ]
  },
  {
   "cell_type": "markdown",
   "metadata": {},
   "source": [
    "E(winnings) = -x * P(patriots win) + 9x * (1 - P(patriots win)) = 0\n",
    "-x * P + 9x - (9x * P) = 0\n",
    "\n",
    "- x = 300\n",
    "- -300P + 2700 - 2700P = 0\n",
    "- P = 0.9\n",
    "\n"
   ]
  },
  {
   "cell_type": "markdown",
   "metadata": {},
   "source": [
    "## Problem 2\n",
    "\n",
    "In the Olympic finals, only three teams are represented; USA, England, and\n",
    "China. Svetlana believes the USA will win and offers even odds of 1:1. Roberto\n",
    "is supporting England and is offering 2:1 odds. (So, if England wins, Roberto\n",
    "keeps his money. If one of the other teams wins, Roberto pays $2 for each\n",
    "dollar bet.) Finally, Jeff supports China as given by his 5:4 odds. Determine the\n",
    "optimal way of dividing $100 to bet that ensures the largest winning."
   ]
  },
  {
   "cell_type": "code",
   "execution_count": 1,
   "metadata": {},
   "outputs": [
    {
     "name": "stdout",
     "output_type": "stream",
     "text": [
      "[78.26086957 78.26086957 78.26086957]\n"
     ]
    },
    {
     "data": {
      "text/plain": [
       "(array([39.13043478, 26.08695652, 34.7826087 ]), 56.52173913043478)"
      ]
     },
     "execution_count": 1,
     "metadata": {},
     "output_type": "execute_result"
    }
   ],
   "source": [
    "# if a package is not installed, use %pip install <package_name> to install it (i.e %pip install numpy)\n",
    "import numpy as np\n",
    "\n",
    "\n",
    "def calculate_arbitrage_profit(odds, bets):\n",
    "    \"\"\"Calculates the arbitrage profit given the odds and the bets.\"\"\"\n",
    "    payouts = np.array(odds) * np.array(bets)\n",
    "    print(payouts)\n",
    "    profit = 2*np.min(payouts) - sum(bets)\n",
    "    return profit\n",
    "\n",
    "def three_way_arbitrage(decimal_odds1, decimal_odds2, decimal_odds3, total_bet):\n",
    "    \"\"\"\n",
    "    Solves a three-way bet for arbitrage opportunities.\n",
    "    Args:\n",
    "    - decimal_odds1, decimal_odds2, decimal_odds3: Decimal odds for the three bets.\n",
    "    - total_bet: Total amount to bet.\n",
    "    Returns:\n",
    "    - Optimal bet amounts for each option and the guaranteed profit.\n",
    "    \"\"\"\n",
    "    # Matrix A represents the coefficients in the linear equations\n",
    "    A = np.array([[decimal_odds1, -decimal_odds2, 0],\n",
    "                  [0, decimal_odds2, -decimal_odds3],\n",
    "                  [1, 1, 1]])\n",
    "\n",
    "    # Matrix B represents the constants in the linear equations\n",
    "    B = np.array([0, 0, total_bet])\n",
    "\n",
    "    # Solve the system of linear equations for the bet amounts\n",
    "    bet_amounts = np.linalg.solve(A, B)\n",
    "\n",
    "    # Calculate arbitrage profit\n",
    "    profit = calculate_arbitrage_profit([decimal_odds1, decimal_odds2, decimal_odds3], bet_amounts)\n",
    "\n",
    "    return bet_amounts, profit\n",
    "\n",
    "# Example usage\n",
    "odds1 = 2.00  # Decimal odds for option 1\n",
    "odds2 = 3.00  # Decimal odds for option 2\n",
    "odds3 = 2.25  # Decimal odds for option 3\n",
    "total_bet = 100  # Total amount to bet\n",
    "\n",
    "bet_amounts, profit = three_way_arbitrage(odds1, odds2, odds3, total_bet)\n",
    "bet_amounts, profit"
   ]
  },
  {
   "cell_type": "markdown",
   "metadata": {},
   "source": [
    "# Probability Review: Discrete and Continuous Variables\n",
    "\n",
    "## Overview\n",
    "- **Discrete Random Variables**: Take finite/countably infinite values (e.g., coin toss outcomes).\n",
    "- **Continuous Random Variables**: Take values in a continuous range (e.g., time, height).\n",
    "\n",
    "## Expected Value (Mean)\n",
    "The expected value represents the average outcome in a long series of experiments.\n",
    "\n",
    "- **Discrete Variable** ($X$): \n",
    "  $$E(X) = \\sum_{i} x_i P(x_i)$$\n",
    "  Where $x_i$ are values and $P(x_i)$ their probabilities.\n",
    "\n",
    "- **Continuous Variable** ($X$): \n",
    "  $$E(X) = \\int_{-\\infty}^{\\infty} x f(x) \\, dx$$\n",
    "  Where $f(x)$ is the probability density function.\n",
    "\n",
    "## Variance\n",
    "Variance measures the spread of a random variable's values around its mean.\n",
    "\n",
    "- **For Variables $X$**: \n",
    "  $$Var(X) = E[(X - E(X))^2] = E(X^2) - [E(X)]^2$$\n",
    "\n",
    "\n",
    "## Covariance\n",
    "Covariance indicates the direction of the linear relationship between two variables.\n",
    "\n",
    "- **For Variables $X$ and $Y$**: \n",
    "  $$Cov(X, Y) = E[(X - E(X))(Y - E(Y))] = E(XY) - E(X)E(Y)$$\n",
    "  Positive covariance implies that as $X$ increases, $Y$ tends to increase, and vice versa.\n",
    "\n",
    "\n"
   ]
  },
  {
   "cell_type": "markdown",
   "metadata": {},
   "source": [
    "## Problem 3\n",
    "\n",
    "With an American penny, the likelihood of getting H when it is spun on edge\n",
    "is 0.3. If X is the random variable where X(H) = 1, X(T) = −1, find the\n",
    "expected value E(X), the variance, Var(X), and express X in its standard form."
   ]
  },
  {
   "cell_type": "markdown",
   "metadata": {},
   "source": [
    "## Problem 4\n",
    "\n",
    "### Problem Statement\n",
    "\n",
    "Suppose the probability of selecting a number from the interval $[0, 2]$ is given by $f(x) = Cx$.\n",
    "\n",
    "#### Part (a)\n",
    "Find the value of $C$ so that $f(x)$ is a valid probability distribution.\n",
    "\n",
    "#### Part (b)\n",
    "1. Find the probability that the selected number is in the interval $[0,1]$.\n",
    "2. Find the probability that the selected number is in the interval $[1, 2]$.\n",
    "\n",
    "   Why do these probabilities differ?\n",
    "\n",
    "#### Part (c)\n",
    "If $X(x) = x$ is the random variable representing the value of the selected number, determine:\n",
    "1. The expected value $E(X)$.\n",
    "2. The variance $Var(X)$."
   ]
  },
  {
   "cell_type": "markdown",
   "metadata": {},
   "source": [
    "## Problem 5\n",
    "\n",
    "Suppose at an off-track betting facility, just before the four horse race starts, it\n",
    "is learned that 600 dollar bets have been made on A, 300 on B, 400 on C, and\n",
    "200 on D. In order for the owner to earn 3 cents on each dollar bet, determine\n",
    "the payoff, or winnings, for each horse."
   ]
  }
 ],
 "metadata": {
  "kernelspec": {
   "display_name": "bridge_test",
   "language": "python",
   "name": "python3"
  },
  "language_info": {
   "codemirror_mode": {
    "name": "ipython",
    "version": 3
   },
   "file_extension": ".py",
   "mimetype": "text/x-python",
   "name": "python",
   "nbconvert_exporter": "python",
   "pygments_lexer": "ipython3",
   "version": "3.9.6"
  }
 },
 "nbformat": 4,
 "nbformat_minor": 2
}

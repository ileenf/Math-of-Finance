{
 "cells": [
  {
   "cell_type": "markdown",
   "metadata": {},
   "source": [
    "## Question 1\n",
    "\n",
    "The share price of AAPL varies in a random manner, such that the price increase each minute is described by a discrete random variable $X$, with the following probabilities:\n",
    "\n",
    "$$ f_X(x) = \n",
    "  \\begin{cases} \n",
    "   0.5, &  x = +0.05 \\\\\n",
    "   0.2, &  x = 0.00 \\\\\n",
    "   0.3, &  x = -0.05\n",
    "  \\end{cases}\n",
    "$$\n",
    " Use the central limit theorem to estimate the probability that the price will increase by \\$1.20, or more, after 3 hours."
   ]
  },
  {
   "cell_type": "markdown",
   "metadata": {},
   "source": [
    "## Question 2\n",
    "\n",
    "\n",
    "A bookmaker offers a promotional deal: you get \\$100 if you deposit at least \\$1000 or more in your account. The catch is you have to bet at least \\$1000 on their site before you take out your money. The different bets on the website are listed below. You decide to deposit \\$1000. What is the maximum gaurenteed amount you can withdraw?\n",
    "\n",
    "1. **Tennis: Serena Williams vs. Naomi Osaka**\n",
    "   - Serena Williams to win: 4/5\n",
    "   - Naomi Osaka to win: 1/1\n",
    "\n",
    "2. **Basketball: Los Angeles Lakers vs. Boston Celtics**\n",
    "   - Los Angeles Lakers to win: 6/4\n",
    "   - Boston Celtics to win: 1/2\n",
    "\n",
    "3. **Soccer: Manchester City vs. Liverpool**\n",
    "   - Manchester City to win: 1/3\n",
    "   - Liverpool to win: 2/1\n",
    "\n",
    "4. **Boxing: Anthony Joshua vs. Tyson Fury**\n",
    "   - Anthony Joshua to win: 1/1\n",
    "   - Tyson Fury to win: 4/6\n",
    "\n",
    "5. **Horse Racing: Horse A vs. Horse B in a head-to-head matchup**\n",
    "   - Horse A to win: 2/1\n",
    "   - Horse B to win: 2/5\n",
    "\n",
    "6. **Football: New England Patriots vs. Dallas Cowboys**\n",
    "   - New England Patriots to win: 10/11\n",
    "   - Dallas Cowboys to win: 10/11\n",
    "\n",
    "7. **Golf: Head-to-head matchup  - Rory McIlroy vs. Dustin Johnson**\n",
    "   - Rory McIlroy to win: 5/6\n",
    "   - Dustin Johnson to win: 5/6\n",
    "\n",
    "\n",
    "\n",
    "\n"
   ]
  },
  {
   "cell_type": "markdown",
   "metadata": {},
   "source": [
    "## Problem 3\n",
    "You are analyzing an options market where the current price of the underlying stock is \\$150. There is a European call option priced at \\$10 at a strike price of $E$ and a corresponding European put option priced at \\$7 at a strike price of $E$. Both options have the same expiration date, 1 year from now. The annual risk-free interest rate is 4%.\n",
    "\n",
    "Using the put-call parity principle, determine the strike price $E$ of these options. Round your answer to the nearest cent.\n"
   ]
  },
  {
   "cell_type": "markdown",
   "metadata": {},
   "source": [
    "## Problem 4\n",
    "\n",
    "Given the function $ f(x, y) = x^3 - 2xy + e^y $, use a two-dimensional Taylor series expansion to approximate the value of the function at the point $ (1.1, 0.1) $, based on its expansion around the point $ (1, 0) $.\n",
    "\n",
    "Consider terms up to and including the second order in your expansion."
   ]
  },
  {
   "cell_type": "markdown",
   "metadata": {},
   "source": [
    "## Problem 5\n",
    "\n",
    "In probability theory, the logit-normal distribution arises when the logit of a random variable follows a normal distribution. Specifically, if $ Y $ is a random variable with a normal distribution, and $ h $ is the standard logistic function given by $ h(y) = \\frac{1}{1 + e^{-y}} $, then the random variable $ X = h(Y)$ has a logit-normal distribution. \n",
    "\n",
    "\n",
    "Given a random variable $ Y $ that follows a normal distribution with mean $ \\mu $ and variance $ \\sigma^2 $, derive the PDF of the random variable $ X = h(Y) $, where $ X $ has a logit-normal distribution.\n"
   ]
  }
 ],
 "metadata": {
  "kernelspec": {
   "display_name": "bridge_test",
   "language": "python",
   "name": "python3"
  },
  "language_info": {
   "name": "python",
   "version": "3.11.4"
  }
 },
 "nbformat": 4,
 "nbformat_minor": 2
}

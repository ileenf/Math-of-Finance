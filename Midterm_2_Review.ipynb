{
 "cells": [
  {
   "cell_type": "markdown",
   "metadata": {},
   "source": [
    "Let\n",
    "$ dS_t= \\mu(S_t, t) dt +\\sigma(S_t, t) dW_t. $ (A special case is geometric brownian motion, $dS_t= \\mu \\cdot S_t dt +\\sigma\\cdot S_t dW_t$)\n",
    "\n",
    "## Ito's Lemma\n",
    "\n",
    "Let $V(x,t) \\in C^{2,1}$ (Twice Differentiable in x and once differentiable in t).\n",
    "\n",
    "The $V(S_t, t)$ has the following dynamics:\n",
    "\n",
    "$$ dV = \\left( \\frac{\\partial V}{\\partial t} + \\mu(S_t, t) \\frac{\\partial V}{\\partial x} + \\frac{\\sigma^2(S_t, t)}{2} \\frac{\\partial^2 V}{\\partial x^2} \\right) dt + \\sigma(S_t, t) \\frac{\\partial V}{\\partial x} dW_t $$\n",
    "\n",
    "## General Black-Scholes PDE\n",
    "Let $V(S_t, t)$ be the price of an option at time t. Then\n",
    "$$\n",
    "\\frac{\\partial V}{\\partial t} + \\frac{1}{2} \\sigma^2(S_t, t)  \\frac{\\partial^2 V}{\\partial S^2} + rS\\frac{\\partial V}{\\partial S} - rV = 0\n",
    "$$"
   ]
  },
  {
   "cell_type": "markdown",
   "metadata": {},
   "source": [
    "## Question 1\n",
    " (10 points) For this problem assume the stock price $S(t)$ satisfies the following stochastic differential equation:\n",
    "   $$ dS = \\mu dt + \\sigma dW $$\n",
    "   where $dW$ is the standard Wiener process and $\\mu$ and $\\sigma$ are constants.\n",
    "\n",
    "   (a) (5 points) Use Itô's Lemma to derive a partial differential equation that holds for any derivative security $V(S,t)$ whose value depends on $S(t)$.\n",
    "\n",
    "    (b) Find the associated black scholes PDE for $C_E(S, t)$."
   ]
  },
  {
   "cell_type": "markdown",
   "metadata": {},
   "source": [
    "## Solution\n",
    "(a) $$ dV = \\left( \\frac{\\partial V}{\\partial t} + \\mu \\frac{\\partial V}{\\partial x} + \\frac{\\sigma^2_A}{2} \\frac{\\partial^2 f}{\\partial x^2} \\right) dt + \\sigma_A \\frac{\\partial V}{\\partial x} dW_t $$\n",
    "(b) $$\\frac{\\partial V}{\\partial t} + \\frac{1}{2} \\sigma^2_A  \\frac{\\partial^2 V}{\\partial S^2} + rS\\frac{\\partial V}{\\partial S} - rV = 0$$"
   ]
  },
  {
   "cell_type": "markdown",
   "metadata": {},
   "source": [
    "### Black-Scholes Formula for a European Call and Put Option\n",
    "\n",
    "The price of a European call option $C$ is given by:\n",
    "\n",
    "$$ C_E(S,t) = S(t) \\cdot N(d_1) - e^{-r(T-t)} E\\cdot N(d_2) $$\n",
    "\n",
    "\n",
    "Similarly, the price of a European put option $p(t)$ is given by:\n",
    "\n",
    "$$ P_E(S,t) = e^{-r(T-t)} E \\cdot N(-d_2) - S(t) \\cdot N(-d_1) $$\n",
    "\n",
    "\n",
    "where:\n",
    "\n",
    "- $S(t)$: Stock price at time $t$\n",
    "- $E$: Strike price of the option\n",
    "- $T$: Time to expiration\n",
    "- $r$: Risk-free interest rate\n",
    "- $N(x)$: Cumulative distribution function of the standard normal distribution\n",
    "- $d_1$ and $d_2$ are calculated as:\n",
    "\n",
    "$$ d_1 = \\frac{\\ln(S(t) / E) + (r + \\sigma^2 / 2)(T-t)}{\\sigma \\sqrt{T-t}} $$\n",
    "$$ d_2 = d_1 - \\sigma \\sqrt{T-t} $$\n",
    "\n",
    "- $\\sigma$: Volatility (Standard Deviation) of the stock's returns\n",
    "\n"
   ]
  },
  {
   "cell_type": "code",
   "execution_count": 11,
   "metadata": {},
   "outputs": [
    {
     "data": {
      "application/vnd.jupyter.widget-view+json": {
       "model_id": "05901561b5a94e7992716642fb1df51b",
       "version_major": 2,
       "version_minor": 0
      },
      "text/plain": [
       "interactive(children=(IntSlider(value=100, description='K', max=150, min=50, step=5), FloatSlider(value=1.0, d…"
      ]
     },
     "metadata": {},
     "output_type": "display_data"
    },
    {
     "data": {
      "text/plain": [
       "<function __main__.plot_option_price(K=100, T=1, r=0.05, sigma=0.2)>"
      ]
     },
     "execution_count": 11,
     "metadata": {},
     "output_type": "execute_result"
    }
   ],
   "source": [
    "import numpy as np\n",
    "from scipy.stats import norm\n",
    "import matplotlib.pyplot as plt\n",
    "from ipywidgets import interact, FloatSlider\n",
    "\n",
    "def black_scholes_call(S, K, T, r, sigma):\n",
    "    d1 = (np.log(S / K) + (r + 0.5 * sigma**2) * T) / (sigma * np.sqrt(T))\n",
    "    d2 = d1 - sigma * np.sqrt(T)\n",
    "    return S * norm.cdf(d1) - K * np.exp(-r * T) * norm.cdf(d2)\n",
    "\n",
    "def plot_option_price(K=100, T=1, r=0.05, sigma=0.2):\n",
    "    S = np.linspace(50, 150, 100)  # Stock price range\n",
    "    prices = black_scholes_call(S, K, T, r, sigma)\n",
    "    \n",
    "    # Payoff at time T for a call option\n",
    "    payoff = np.maximum(S - K, 0)\n",
    "\n",
    "    plt.figure(figsize=(10, 6))\n",
    "    \n",
    "    # Plotting the Black-Scholes Call Option Price\n",
    "    plt.plot(S, prices, label='Call Option Price')\n",
    "    \n",
    "    # Plotting the Payoff at time T\n",
    "    plt.plot(S, payoff, label='Payoff at T', linestyle='--', color='red')\n",
    "    \n",
    "    plt.xlabel('Stock Price')\n",
    "    plt.ylabel('Value')\n",
    "    plt.title('Black-Scholes Call Option Price and Payoff at T')\n",
    "    plt.legend()\n",
    "    plt.grid(True)\n",
    "    \n",
    "    # Fixing the x and y axes\n",
    "    plt.xlim([50, 150])\n",
    "    plt.ylim([0, max(max(prices), max(payoff)) + 10])\n",
    "    \n",
    "    plt.show()\n",
    "\n",
    "interact(plot_option_price, K=(50,150,5), T=(0.01,2,0.01), r=(0,0.1,0.01), sigma=(0.01,1,0.01))\n"
   ]
  },
  {
   "cell_type": "markdown",
   "metadata": {},
   "source": [
    "## Problem 2\n",
    "(20 points) This problem involves the Black-Scholes European option pricing formulas.\n",
    "\n",
    "(a) (5 points) Write down the complete formula for the Black-Scholes European call option formula, making sure to define all terms.\n",
    "\n",
    "\n",
    "(b) (5 points) Use the put-call parity relationship to derive the formula for the Black-Scholes European put option.\n",
    "\n",
    "\n",
    "(c) (5 points) Describe what happens to the call option price $C_E(S_{t})$ as $t \\to T$\n",
    "\n",
    "\n",
    "(d) (5 points) Describe what happens to the put option price $P_E(S_{t})$ as $t \\to T$\n",
    "\n",
    "\n"
   ]
  },
  {
   "cell_type": "markdown",
   "metadata": {},
   "source": [
    "### Solution 2\n",
    "\n",
    "(a) See above\n",
    "\n",
    "(c)\n",
    "$$\n",
    "\\lim_{t \\to T} C_E(S_{t}) = \n",
    "\\begin{cases} \n",
    "S - E, & S \\geq E \\\\\n",
    "0, & S < E\n",
    "\\end{cases}\n",
    "= \\max(S - E, 0) = C_E(S, T)\n",
    "$$\n",
    "\n",
    "(d) \n",
    "$$\n",
    "\\lim_{t \\to T} P_E(S_{t}) = \n",
    "\\begin{cases} \n",
    "E - S, & S \\leq E \\\\\n",
    "0, & S > E\n",
    "\\end{cases}\n",
    "= \\max(E - S, 0) = P_E(S, T)\n",
    "$$\n"
   ]
  },
  {
   "cell_type": "code",
   "execution_count": 12,
   "metadata": {},
   "outputs": [
    {
     "data": {
      "text/plain": [
       "(1.5348652546134858, 1.2854892142476047)"
      ]
     },
     "execution_count": 12,
     "metadata": {},
     "output_type": "execute_result"
    }
   ],
   "source": [
    "from scipy.stats import norm\n",
    "import numpy as np\n",
    "\n",
    "def black_scholes_call(S0, E, T, r, sigma):\n",
    "    \"\"\"\n",
    "    Calculate the Black-Scholes option price for a European call option.\n",
    "\n",
    "    Parameters:\n",
    "    S0 (float): Current stock price\n",
    "    E (float): Strike price of the option\n",
    "    T (float): Time to expiration in years\n",
    "    r (float): Risk-free interest rate\n",
    "    sigma (float): Volatility of the stock \n",
    "\n",
    "    Returns:\n",
    "    float: Price of the call option\n",
    "    \"\"\"\n",
    "    # Calculate d1 and d2\n",
    "    d1 = (np.log(S0 / E) + (r + 0.5 * sigma**2) * T) / (sigma * np.sqrt(T))\n",
    "    d2 = d1 - sigma * np.sqrt(T)\n",
    "    # Calculate the call option price\n",
    "    call_price = (S0 * norm.cdf(d1)) - (E * np.exp(-r * T) * norm.cdf(d2))\n",
    "    return call_price\n",
    "\n",
    "def black_scholes_put(S0, E, T, r, sigma):\n",
    "    \"\"\"\n",
    "    Calculate the Black-Scholes option price for a European put option.\n",
    "\n",
    "    Parameters:\n",
    "    S0 (float): Current stock price\n",
    "    X (float): Strike price of the option\n",
    "    T (float): Time to expiration in years\n",
    "    r (float): Risk-free interest rate\n",
    "    sigma (float): Volatility of the stock \n",
    "\n",
    "    Returns:\n",
    "    float: Price of the put option\n",
    "    \"\"\"\n",
    "    # Calculate d1 and d2\n",
    "    d1 = (np.log(S0 /E) + (r + 0.5 * sigma**2) * T) / (sigma * np.sqrt(T))\n",
    "    d2 = d1 - sigma * np.sqrt(T)\n",
    "    # Calculate the call option price\n",
    "    put_price = -(S0 * norm.cdf(-d1)) + (E * np.exp(-r * T) * norm.cdf(-d2))\n",
    "    return put_price\n",
    "\n",
    "# Given data\n",
    "S0 = 50    # Current stock price\n",
    "E = 50       # Strike price\n",
    "T = 0.5      # Time to expiration in years\n",
    "r = 0.01   # Risk-free interest rate \n",
    "sigma = 0.10 # Volatility of the stock \n",
    "\n",
    "# Calculate the call option price\n",
    "call_option_price = black_scholes_call(S0, E, T, r, sigma)\n",
    "put_option_price = black_scholes_put(S0, E, T, r, sigma)\n",
    "call_option_price, put_option_price"
   ]
  },
  {
   "cell_type": "markdown",
   "metadata": {},
   "source": [
    "### Practice Problems on Black-Scholes Option Pricing\n",
    "\n",
    "#### Problem 1: Apple Inc. (AAPL)\n",
    "- Current stock price, $S(t)$: \\$150\n",
    "- Strike price, $E$: \\$155\n",
    "- Time to expiration, $T$: 1 year\n",
    "- Risk-free interest rate, $r$: 2%\n",
    "- Volatility, $\\sigma$: 25%\n",
    "\n",
    "Calculate the price of both a European call and put option for AAPL.\n",
    "\n",
    "#### Problem 2: Microsoft Corp. (MSFT)\n",
    "- Current stock price, $S(t)$: \\$220\n",
    "- Strike price, $E$: \\$210\n",
    "- Time to expiration, $T$: 6 months\n",
    "- Risk-free interest rate, $r$: 1.5%\n",
    "- Volatility, $\\sigma$: 20%\n",
    "\n",
    "Calculate the price of both a European call and put option for MSFT.\n",
    "\n",
    "#### Problem 3: Tesla, Inc. (TSLA)\n",
    "- Current stock price, $S(t)$: \\$700\n",
    "- Strike price, $E$: \\$750\n",
    "- Time to expiration, $T$: 3 months\n",
    "- Risk-free interest rate, $r$: 2.5%\n",
    "- Volatility, $\\sigma$: 30%\n",
    "\n",
    "Calculate the price of both a European call and put option for TSLA.\n",
    "\n",
    "#### Problem 4: Amazon.com, Inc. (AMZN)\n",
    "- Current stock price, $S(t)$: \\$3300\n",
    "- Strike price, $E$: \\$3400\n",
    "- Time to expiration, $T$: 2 years\n",
    "- Risk-free interest rate, $r$: 3%\n",
    "- Volatility, $\\sigma$: 22%\n",
    "\n",
    "Calculate the price of both a European call and put option for AMZN.\n",
    "\n",
    "#### Problem 5: Alphabet Inc. (GOOGL)\n",
    "- Current stock price, $S(t)$: \\$2800\n",
    "- Strike price, $E$: \\$2750\n",
    "- Time to expiration, $T$: 1.5 years\n",
    "- Risk-free interest rate, $r$: 2%\n",
    "- Volatility, $\\sigma$: 24%\n",
    "\n",
    "Calculate the price of both a European call and put option for GOOGL."
   ]
  },
  {
   "cell_type": "code",
   "execution_count": 8,
   "metadata": {},
   "outputs": [
    {
     "name": "stdout",
     "output_type": "stream",
     "text": [
      "AAPL Call Option Price: $14.07\n",
      "AAPL Put Option Price: $16.00\n",
      "\n",
      "MSFT Call Option Price: $18.73\n",
      "MSFT Put Option Price: $7.16\n",
      "\n",
      "TSLA Call Option Price: $24.26\n",
      "TSLA Put Option Price: $69.59\n",
      "\n",
      "AMZN Call Option Price: $452.77\n",
      "AMZN Put Option Price: $354.77\n",
      "\n",
      "GOOGL Call Option Price: $389.35\n",
      "GOOGL Put Option Price: $258.08\n",
      "\n"
     ]
    }
   ],
   "source": [
    "import numpy as np\n",
    "from scipy.stats import norm\n",
    "\n",
    "# Define the Black-Scholes functions for call and put options\n",
    "def black_scholes_call(S0, E, T, r, sigma):\n",
    "    d1 = (np.log(S0 / E) + (r + 0.5 * sigma**2) * T) / (sigma * np.sqrt(T))\n",
    "    d2 = d1 - sigma * np.sqrt(T)\n",
    "    call_price = (S0 * norm.cdf(d1)) - (E * np.exp(-r * T) * norm.cdf(d2))\n",
    "    return call_price\n",
    "\n",
    "def black_scholes_put(S0, E, T, r, sigma):\n",
    "    d1 = (np.log(S0 / E) + (r + 0.5 * sigma**2) * T) / (sigma * np.sqrt(T))\n",
    "    d2 = d1 - sigma * np.sqrt(T)\n",
    "    put_price = (E * np.exp(-r * T) * norm.cdf(-d2)) - (S0 * norm.cdf(-d1))\n",
    "    return put_price\n",
    "\n",
    "# Define the stock parameters for each problem\n",
    "stocks = [\n",
    "    {'name': 'AAPL', 'S0': 150, 'E': 155, 'T': 1, 'r': 0.02, 'sigma': 0.25},\n",
    "    {'name': 'MSFT', 'S0': 220, 'E': 210, 'T': 0.5, 'r': 0.015, 'sigma': 0.20},\n",
    "    {'name': 'TSLA', 'S0': 700, 'E': 750, 'T': 0.25, 'r': 0.025, 'sigma': 0.30},\n",
    "    {'name': 'AMZN', 'S0': 3300, 'E': 3400, 'T': 2, 'r': 0.03, 'sigma': 0.22},\n",
    "    {'name': 'GOOGL', 'S0': 2800, 'E': 2750, 'T': 1.5, 'r': 0.02, 'sigma': 0.24},\n",
    "]\n",
    "\n",
    "# Calculate and print the Black-Scholes prices for calls and puts\n",
    "for stock in stocks:\n",
    "    call_price = black_scholes_call(stock['S0'], stock['E'], stock['T'], stock['r'], stock['sigma'])\n",
    "    put_price = black_scholes_put(stock['S0'], stock['E'], stock['T'], stock['r'], stock['sigma'])\n",
    "    print(f\"{stock['name']} Call Option Price: ${call_price:.2f}\")\n",
    "    print(f\"{stock['name']} Put Option Price: ${put_price:.2f}\\n\")\n"
   ]
  },
  {
   "cell_type": "markdown",
   "metadata": {},
   "source": [
    "## Put-Call Parity Equation\n",
    "\n",
    "The put-call parity  principle in options pricing that explains the relationship between the price of European call and European put options with the same strike price and expiration date. \n",
    "\n",
    "The put-call parity equation is given by:\n",
    "\n",
    "$$ S + P_E(S, t) = C_E(S, t) + Ee^{-r(T-t)} $$\n",
    "\n"
   ]
  },
  {
   "cell_type": "markdown",
   "metadata": {},
   "source": [
    "\n",
    "The Greeks measure the sensitivity of option prices to various factors. \n",
    "\n",
    "#### Delta ($\\Delta=\\frac{\\partial V}{\\partial S}$)\n",
    "- Measures the rate of change of the option price with respect to changes in the underlying asset's price.\n",
    "- For call options: $\\Delta = N(d_1)$\n",
    "- For put options: $\\Delta = N(d_1) - 1$\n",
    "\n",
    "#### Gamma ($\\Gamma=\\frac{\\partial^2 V}{\\partial S^2}$)\n",
    "- Measures the rate of change in Delta with respect to changes in the underlying asset's price.\n",
    "- $\\Gamma = \\frac{N'(d_1)}{S \\sigma \\sqrt{T-t}}$\n",
    "\n",
    "#### Theta ($\\Theta=-\\frac{\\partial V}{\\partial \\tau} $) $(\\tau:=T-t)$\n",
    "- Measures the rate of change of the option price with respect to time (time decay).\n",
    "- Call options: $\\Theta = -\\frac{S N'(d_1) \\sigma}{2 \\sqrt{T-t}} - r E e^{-r(T-t)} N(d_2)$\n",
    "- Put options: $\\Theta = -\\frac{S N'(d_1) \\sigma}{2 \\sqrt{T-t}} + r E e^{-r(T-t)} N(-d_2)$\n",
    "\n",
    "#### Vega ($\\nu=\\frac{\\partial V}{\\partial \\sigma}$)\n",
    "- Measures the rate of change of the option price with respect to volatility of the underlying asset.\n",
    "- $\\nu = S \\sqrt{T-t} N'(d_1)$\n",
    "\n",
    "#### Rho ($\\rho=\\frac{\\partial V}{\\partial r}$)\n",
    "- Measures the rate of change of the option price with respect to the risk-free interest rate.\n",
    "- For call options: $\\rho = (T-t) E e^{-r(T-t)} N(d_2)$\n",
    "- For put options: $\\rho = -(T-t) E e^{-r(T-t)} N(-d_2)$\n",
    "\n"
   ]
  },
  {
   "cell_type": "code",
   "execution_count": 3,
   "metadata": {},
   "outputs": [
    {
     "name": "stdout",
     "output_type": "stream",
     "text": [
      "Call Price: 10.4506, Delta: 0.6368, Gamma: 0.0188, Theta: -6.4140, Vega: 37.5240, Rho: 53.2325\n"
     ]
    }
   ],
   "source": [
    "from scipy.stats import norm\n",
    "import numpy as np\n",
    "# best online calculator so far found at http://www.deltaquants.com/calc-test \n",
    "def european_call_price_and_greeks(S, E, T, r, sigma):\n",
    "    \"\"\"\n",
    "    Calculate the price and Greeks for a European call option.\n",
    "\n",
    "    Parameters:\n",
    "    S (float): Current stock price\n",
    "    X (float): Strike price\n",
    "    T (float): Time to expiration in years\n",
    "    r (float): Risk-free interest rate\n",
    "    sigma (float): Volatility of the stock\n",
    "\n",
    "    Returns:\n",
    "    tuple: Option price, Delta, Gamma, Theta, Vega, Rho\n",
    "    \"\"\"\n",
    "    # Calculate d1 and d2\n",
    "    d1 = (np.log(S / E) + (r + 0.5 * sigma ** 2) * T) / (sigma * np.sqrt(T))\n",
    "    d2 = d1 - sigma * np.sqrt(T)\n",
    "\n",
    "    # Calculate the price of the call option\n",
    "    price = S * norm.cdf(d1) - E * np.exp(-r * T) * norm.cdf(d2)\n",
    "    # Calculate Greeks\n",
    "    delta = norm.cdf(d1)\n",
    "    gamma = norm.pdf(d1) / (S * sigma * np.sqrt(T))\n",
    "    theta = -S * norm.pdf(d1) * sigma / (2 * np.sqrt(T)) - r * E * np.exp(-r * T) * norm.cdf(d2)\n",
    "    vega = S * np.sqrt(T) * norm.pdf(d1)\n",
    "    rho = T * E * np.exp(-r * T) * norm.cdf(d2)\n",
    "\n",
    "    return price, delta, gamma, theta, vega, rho\n",
    "\n",
    "# Example usage\n",
    "S0 = 100  # Current stock price\n",
    "E = 100   # Strike price\n",
    "T = 1    # Time to expiration (1 year)\n",
    "r = 0.05  # Risk-free interest rate\n",
    "sigma = 0.20  # Volatility of the stock\n",
    "\n",
    "price, delta, gamma, theta, vega, rho = european_call_price_and_greeks(S0, E, T, r, sigma)\n",
    "print(f\"Call Price: {price:.4f}, Delta: {delta:.4f}, Gamma: {gamma:.4f}, Theta: {theta:.4f}, Vega: {vega:.4f}, Rho: {rho:.4f}\")\n"
   ]
  },
  {
   "cell_type": "markdown",
   "metadata": {},
   "source": [
    "## Question 4\n",
    "(20 points) This problem involves $\\Delta_C$ the sensitivity to changes in $S$ of the European call option $C_E(S,t)$ and European put option $P_E(S,t)$, measured mathematically as\n",
    "\n",
    "$$ \\Delta_C = \\frac{\\partial C_E(S,t)}{\\partial S} \\quad \\Delta_P = \\frac{\\partial P_E(S,t)}{\\partial S} $$\n",
    "\n",
    "(a) (5 points) Consider a European call option on a stock with a strike price equal to the current stock price ($t=0$) and 4 years until expiration. Assume the risk-free interest rate is zero. Find an expression for $\\Delta_C$ as a function of the volatility $\\sigma$.\n",
    "\n",
    "(b) (5 points) Now find an expression for $\\Delta_P$ as a function of the volatility $\\sigma$.\n",
    "\n",
    "(c) (5 points) Based on your expression for $\\Delta_C$ and the same assumptions in part (a) find the numerical value for\n",
    "\n",
    "$$ \\lim_{\\sigma \\to \\infty} \\Delta_C  $$\n",
    "\n",
    "(d) (5 points) Explain how your answer in part (c) relates to\n",
    "\n",
    "$$ \\lim_{\\sigma \\to \\infty} C_E(S,t)  $$\n"
   ]
  },
  {
   "cell_type": "markdown",
   "metadata": {},
   "source": [
    "### Solution 4\n",
    "We know \n",
    "- For call options: $\\Delta = N(d_1)$\n",
    "- For put options: $\\Delta = N(d_1) - 1$\n",
    "where\n",
    "$$ d_1 = \\frac{\\ln(S(t) / E) + (r + \\sigma^2 / 2)(T-t)}{\\sigma \\sqrt{T-t}} $$\n",
    "\n",
    "(a)\n",
    "We have $d1=\\sigma$. So $\\Delta = N(\\sigma)$\n",
    "\n",
    "(b) $\\Delta = N(\\sigma)-1$\n",
    "\n",
    "(c)  $\\lim_{\\sigma \\to \\infty} \\Delta_C = 1 $\n",
    "\n",
    "(d) If we integrate with repsect to S both sides of $\\lim_{\\sigma \\to \\infty} \\Delta_C=1$ we get $ \\lim_{\\sigma \\to \\infty} C_E(S,t) = S$."
   ]
  },
  {
   "cell_type": "markdown",
   "metadata": {},
   "source": [
    "## Question 6\n",
    "(10 points) Consider a European call option struck “at-the-money”, meaning the strike price equals current stock price. There is one year until expiration and the risk-free annual interest rate is $r = 0.06$. We define the call option’s “delta” as\n",
    "$$ \\Delta = \\frac{\\partial C_E(S,t)}{\\partial S} $$\n",
    "\n",
    "(a) (5 points) What does the call option’s delta depend on?\n",
    "\n",
    "(b) (5 points) Is it possible to determine whether or not the call option’s delta is greater than or less than 0.5? Please explain your reasoning."
   ]
  },
  {
   "cell_type": "markdown",
   "metadata": {},
   "source": [
    "### Solution 6\n",
    "\n",
    "(a) Delta=$N(d_1)$\n",
    "\n",
    "(b) $N(d_1)>0.5$ when $d_1>0$. So when $  \\frac{\\ln(S(t) / E) + (r + \\sigma^2 / 2)(T-t)}{\\sigma \\sqrt{T-t}}>0 $. After some algebra, this happens when\n",
    "$$S(t)>E*e^{-(r + \\sigma^2 / 2)(T-t)}$$\n"
   ]
  },
  {
   "cell_type": "code",
   "execution_count": 3,
   "metadata": {},
   "outputs": [
    {
     "name": "stdout",
     "output_type": "stream",
     "text": [
      " Delta: 0.50\n"
     ]
    }
   ],
   "source": [
    "#Sanity Check - we want delta to be 0.5 here.\n",
    "# Current stock price\n",
    "E = 50       # Strike price\n",
    "T = 0.5      # Time to expiration in years\n",
    "r = 0.01   # Risk-free interest rate \n",
    "sigma = 0.10 # Volatility of the stock \n",
    "S0= E*np.exp(-((r+sigma**2/2)*T))\n",
    "\n",
    "\n",
    "price, delta, gamma, theta, vega, rho = european_call_price_and_greeks(S0, E, T, r, sigma)\n",
    "print(f\" Delta: {delta:.2f}\")\n",
    "\n"
   ]
  },
  {
   "cell_type": "markdown",
   "metadata": {},
   "source": [
    "## Question 7\n",
    "(10 points) Consider a portfolio Π of European options that holds two long call options, 3 short put options, and is long $\\alpha$ units of the stock $S$. Mathematically we define this as follows:\n",
    "$$ \\Pi = 2C_E(S,t) - 3P_E(S,t) + S\\alpha $$\n",
    "Suppose we would like to choose an $\\alpha$ such that the value of the portfolio $\\Pi$ will be unaffected by small changes in the underlying stock price $S$. Derive an expression for the best choice of $\\alpha$.\n"
   ]
  },
  {
   "cell_type": "markdown",
   "metadata": {},
   "source": [
    "### Solution 7\n",
    "\n",
    "We want $ 0=\\frac{d}{dS}\\Pi =2 \\frac{d}{dS}C_E(S,t) - 3\\frac{d}{dS}P_E(S,t) + \\alpha $.\n",
    "\n",
    "So \n",
    "$\\alpha=3\\frac{d}{dS}P_E(S,t)-2\\frac{d}{dS}C_E(S,t)=N(d1)-3$"
   ]
  },
  {
   "cell_type": "markdown",
   "metadata": {},
   "source": [
    "### American Options:\n",
    "- Exercisable any time up to expiration.\n",
    "- Call and Put pricing lacks a general closed-form solution like Black-Scholes for European options.\n",
    "- American Call (no dividends): Price aligns with European call due to no early exercise advantage.\n",
    "- American Put: Early exercise can be optimal if intrinsic value (E-S) is greater than put price.\n",
    "\n"
   ]
  },
  {
   "cell_type": "markdown",
   "metadata": {},
   "source": [
    "## Problem 3\n",
    "(10 points) This problem involves American options.\n",
    "\n",
    "(a) (5 points) Suppose you observe in the market an American call option $C_{80}(100,t)$ trading at a price of $10. Does an arbitrage opportunity exist? If so, explain how to capture the arbitrage profit and the exact arbitrage profit amount.\n",
    "\n",
    "\n",
    "\n",
    "(b) (5 points) Suppose you observe in the market an American put option $P_{180}(100,t)$ trading at a price of $100. Does an arbitrage opportunity exist? If so, explain how to capture the arbitrage profit and the exact arbitrage profit amount.\n",
    "\n",
    "\n"
   ]
  },
  {
   "cell_type": "markdown",
   "metadata": {},
   "source": [
    "### Solution 3\n",
    "(a)\n",
    "Yes! Buy $C_{80}(100,t)$ for $10, buy the stock at $80 by exercising the call option immediately, sell the stock for $100 in the open market, and pocket $10 arbitrage profit.\n",
    "\n",
    "(b)\n",
    "No arbitrage. Intrinsic value is only $80, but put price is $100."
   ]
  },
  {
   "cell_type": "markdown",
   "metadata": {},
   "source": [
    "\n",
    "## Question 5\n",
    " (10 points) For this problem, please circle TRUE or FALSE for each statement concerning the Black-Scholes option pricing theory.\n",
    "\n",
    "(a) (1 point) TRUE or FALSE:\n",
    "$$ \\frac{\\partial C_E(S,t)}{\\partial S} > 0 $$\n",
    "\n",
    "(b) (1 point) TRUE or FALSE:\n",
    "$$ \\frac{\\partial C_E(S,t)}{\\partial \\sigma} = \\frac{\\partial P_E(S,t)}{\\partial \\sigma} $$\n",
    "\n",
    "(c) (1 point) TRUE or FALSE:\n",
    "$$ \\frac{\\partial P_E(S,t)}{\\partial S} > 0 $$\n",
    "\n",
    "(d) (1 point) TRUE or FALSE:\n",
    "$$ \\frac{\\partial C_E(S,t)}{\\partial t} < 0 $$\n",
    "\n",
    "(e) (1 point) TRUE or FALSE:\n",
    "$$ C_E(S,t) \\leq S $$\n",
    "\n",
    "(f) (1 point) TRUE or FALSE:\n",
    "$$ \\frac{\\partial P_E(S,t)}{\\partial S} = -N(-d_1) $$\n",
    "\n",
    "(g) (1 point) TRUE or FALSE: The right to exercise early is what distinguishes an American option from a European option.\n",
    "\n",
    "(h) (1 point) TRUE or FALSE: The value of both European put options and European call options go up when the volatility $\\sigma$ goes down.\n",
    "\n",
    "(i) (1 point) TRUE or FALSE: The value of a European put option $P_E(S,t)$ can never at any time be less than its intrinsic value $E - S$.\n",
    "\n",
    "(j) (1 point) TRUE or FALSE: The value of a European call option $C_E(S,t)$ can never at any time be less than its intrinsic value $S - E$.\n",
    "\n"
   ]
  },
  {
   "cell_type": "markdown",
   "metadata": {},
   "source": [
    "## Solution 5\n",
    "- (a) True\n",
    "- (b) True\n",
    "- (c) False\n",
    "- (d) True\n",
    "- (e) True\n",
    "- (f) True\n",
    "- (g) True\n",
    "- (h) False\n",
    "- (i) False\n",
    "- (j) True "
   ]
  },
  {
   "cell_type": "markdown",
   "metadata": {},
   "source": [
    "## Question 8\n",
    "(10 points) By using the stochastic differential equation (SDE) for a stock price $S(t)$\n",
    "$$ dS = \\mu S dt + \\sigma S dw, $$\n",
    "where $dw$ is the standard Wiener process and $\\mu$ and $\\sigma$ are constants. Find the explicit expression for the stock price $S(t)$ when $S(t = 0) = S_0$ and $w(t = 0) = 0$. Hint: consider using Itô’s Lemma with $V = \\ln(S)$.\n"
   ]
  },
  {
   "cell_type": "markdown",
   "metadata": {},
   "source": [
    "### Solution 8\n",
    "\n",
    "\n",
    "Consider the Geometric Brownian Motion (GBM) described by the SDE:\n",
    "\n",
    "$$ dS_t = \\mu S_t dt + \\sigma S_t dW_t $$\n",
    "\n",
    "Here, $\\mu$ represents the constant drift rate, and $\\sigma$ represents the constant volatility. The term $S_t$ signifies the stock price at time $t$.\n",
    "\n",
    "To apply Itô's Lemma, we select a function $f(t, S_t)$ to transform the SDE. Choosing $f(t, S_t) = \\ln(S_t)$, we proceed as follows:\n",
    "\n",
    "#### Step 1: Compute Partial Derivatives of $f$\n",
    "\n",
    "For $f(t, S_t) = \\ln(S_t)$:\n",
    "\n",
    "- $\\frac{\\partial f}{\\partial t} = 0$ since $f$ does not explicitly depend on $t$.\n",
    "- $\\frac{\\partial f}{\\partial S_t} = \\frac{1}{S_t}$\n",
    "- $\\frac{\\partial^2 f}{\\partial S_t^2} = -\\frac{1}{S_t^2}$\n",
    "\n",
    "#### Step 2: Apply Itô's Lemma to $f(t, S_t)$\n",
    "\n",
    "Itô's Lemma gives:\n",
    "\n",
    "$$ df = \\left( \\frac{\\partial f}{\\partial t} + \\mu(S_t, t) \\frac{\\partial f}{\\partial S_t} + \\frac{ \\sigma^2(S_t, t)}{2} \\frac{\\partial^2 f}{\\partial S_t^2} \\right) dt +  \\sigma(S_t, t) \\frac{\\partial f}{\\partial S_t} dW_t $$\n",
    "\n",
    "- Note: In this context, $\\mu(S_t, t) = \\mu S_t$ and $ \\sigma(S_t, t) = \\sigma S_t$, reflecting the GBM dynamics.\n",
    "\n",
    "Substituting the derivatives and terms:\n",
    "\n",
    "$$ d(\\ln(S_t)) = \\left( 0 + \\mu S_t \\cdot \\frac{1}{S_t} - \\frac{(\\sigma S_t)^2}{2} \\cdot \\frac{1}{S_t^2} \\right) dt + \\sigma S_t \\cdot \\frac{1}{S_t} dW_t $$\n",
    "\n",
    "Simplifying, we get:\n",
    "\n",
    "$$ d(\\ln(S_t)) = \\left( \\mu - \\frac{\\sigma^2}{2} \\right) dt + \\sigma dW_t $$\n",
    "\n",
    "#### Step 3: Integrate and Solve for $S_T$\n",
    "\n",
    "Integrating from $0$ to $T$:\n",
    "\n",
    "$$ \\ln\\left(\\frac{S_T}{S_0}\\right) = \\left( \\mu - \\frac{\\sigma^2}{2} \\right) T + \\sigma W_T $$\n",
    "\n",
    "Solving for $S_T$:\n",
    "\n",
    "$$ S_T = S_0 e^{\\left( \\mu - \\frac{\\sigma^2}{2} \\right) T + \\sigma W_T} $$\n"
   ]
  },
  {
   "cell_type": "markdown",
   "metadata": {},
   "source": [
    "In general, for a geometric browian motion $$ dX_t = \\mu X_t dt + \\sigma X_t dW_t, $$ we have  has the distribution of a log-normal pdf with parameters $\\mu_1$ and $\\sigma^2_1$ at time $T$ given $X(t)$\n",
    "$$ f_{X_T}(x) = \\frac{1}{x \\sigma_1 \\sqrt{2\\pi}} e^{-\\frac{(\\ln(x) - \\mu_1)^2}{2\\sigma_1^2}} $$\n",
    "\n",
    "where \n",
    "$$\\mu_1=\\ln[X(t)]+(\\mu-\\frac{1}{2}\\sigma^2)(T-t)$$\n",
    "and \n",
    "$$\\sigma_1^2=\\sigma^2(T-t)$$\n",
    "\n",
    "The mode of the log-normal distribution (Most likely value):\n",
    "\n",
    "$$ x = e^{\\mu_1 - \\sigma_1^2} $$"
   ]
  },
  {
   "cell_type": "code",
   "execution_count": null,
   "metadata": {},
   "outputs": [],
   "source": [
    "import numpy as np\n",
    "import matplotlib.pyplot as plt\n",
    "from scipy.stats import lognorm\n",
    "\n",
    "def plot_gbm_log_normal_distribution(X_t, mu, sigma, T_minus_t):\n",
    "    \"\"\"\n",
    "    Plot the log-normal distribution for a GBM process at time T.\n",
    "\n",
    "    Parameters:\n",
    "    X_t (float): The value of the process at time t.\n",
    "    mu (float): Drift coefficient of the GBM process.\n",
    "    sigma (float): Volatility coefficient of the GBM process.\n",
    "    T_minus_t (float): Time difference between T and t.\n",
    "    \"\"\"\n",
    "    # Calculate mu_1 and sigma_1^2\n",
    "    mu_1 = np.log(X_t) + (mu - 0.5 * sigma**2) * T_minus_t\n",
    "    sigma_1 = sigma * np.sqrt(T_minus_t)\n",
    "\n",
    "    # Define the range for x values\n",
    "    x = np.linspace(X_t * 0.1, X_t * 3, 1000)  # From 10% of X_t to 300% of X_t\n",
    "\n",
    "    # Calculate the PDF of the log-normal distribution\n",
    "    pdf = (1 / (x * sigma_1 * np.sqrt(2 * np.pi))) * np.exp(-0.5 * ((np.log(x) - mu_1) / sigma_1) ** 2)\n",
    "\n",
    "    # Plotting\n",
    "    plt.figure(figsize=(10, 6))\n",
    "    plt.plot(x, pdf, 'r-', lw=2, label=f'Log-Normal PDF ($\\mu_1$={mu_1:.2f}, $\\sigma_1^2$={sigma_1**2:.2f})')\n",
    "    plt.title('Log-Normal Distribution for GBM Process at Time T')\n",
    "    plt.xlabel('Value of Process at Time T ($X_T$)')\n",
    "    plt.ylabel('Probability Density Function')\n",
    "    plt.legend()\n",
    "    plt.grid(True)\n",
    "    plt.show()\n",
    "\n",
    "# Example usage:\n",
    "X_t = 50  # Value of the process at time t\n",
    "mu = .3  # Drift coefficient\n",
    "sigma = .2  # Volatility coefficient\n",
    "T_minus_t = 1  # One year difference\n",
    "\n",
    "plot_gbm_log_normal_distribution(X_t, mu, sigma, T_minus_t)"
   ]
  },
  {
   "cell_type": "markdown",
   "metadata": {},
   "source": [
    "\n",
    "### Estimating Realized Volatility\n",
    "\n",
    "Given historical stock prices $S(n)$ for $N+1$ days, we can estimate daily returns $R_n$ as:\n",
    "\n",
    "$$ R_n = \\frac{S(n) - S(n - 1)}{S(n - 1)} $$\n",
    "\n",
    "Then, we compute the daily mean return $\\hat{\\mu}_d$ and daily volatility $\\hat{\\sigma}_d$:\n",
    "\n",
    "$$ \\hat{\\mu}_d = \\frac{1}{N} \\sum_{n=1}^{N} \\ln(1 + R_n) $$\n",
    "$$ \\hat{\\sigma}_d = \\sqrt{\\frac{1}{N - 1} \\sum_{n=1}^{N} (\\ln(1 + R_n) - \\hat{\\mu}_d)^2} $$\n",
    "\n",
    "To annualize these estimates, assuming 252 trading days in a year, the formulas are:\n",
    "\n",
    "$$ \\hat{\\mu} = 252 \\hat{\\mu}_d $$\n",
    "$$ \\hat{\\sigma} = \\hat{\\sigma}_d \\sqrt{252} $$\n",
    "\n",
    "\n"
   ]
  },
  {
   "cell_type": "markdown",
   "metadata": {},
   "source": [
    "In general, for a geometric browian motion $$ dX_t = \\mu X_t dt + \\sigma X_t dW_t, $$ we have  has the distribution of a log-normal pdf with parameters $\\mu_1$ and $\\sigma^2_1$ at time $T$ given $X(t)$\n",
    "$$ f_{X_T}(x) = \\frac{1}{x \\sigma_1 \\sqrt{2\\pi}} e^{-\\frac{(\\ln(x) - \\mu_1)^2}{2\\sigma_1^2}} $$\n",
    "\n",
    "where \n",
    "$$\\mu_1=\\ln[X(t)]+(\\mu-\\frac{1}{2}\\sigma^2)(T-t)$$\n",
    "and \n",
    "$$\\sigma_1^2=\\sigma^2(T-t)$$\n",
    "\n",
    "The mode (Most likely value of the stock at time $T$) of the log-normal distributionis :\n",
    "\n",
    "$$ x = e^{\\mu_1 - \\sigma_1^2} $$"
   ]
  },
  {
   "cell_type": "markdown",
   "metadata": {},
   "source": [
    "### Question on Estimating Realized Volatility for Apple Inc. (AAPL)\n",
    "\n",
    "You have been provided with the following historical closing prices for Apple Inc. (AAPL) over 10 trading days. Using these prices, estimate the annualized volatility of the stock.\n",
    "\n",
    "Historical closing prices of AAPL:\n",
    "\n",
    "| Day | AAPL Closing Price ($) |\n",
    "|-----|------------------------|\n",
    "| 1   | 150.00                 |\n",
    "| 2   | 152.30                 |\n",
    "| 3   | 153.20                 |\n",
    "| 4   | 151.80                 |\n",
    "| 5   | 152.50                 |\n",
    "| 6   | 150.70                 |\n",
    "| 7   | 151.25                 |\n",
    "| 8   | 152.80                 |\n",
    "| 9   | 153.75                 |\n",
    "| 10  | 155.00                 |\n",
    "\n",
    "\n"
   ]
  },
  {
   "cell_type": "code",
   "execution_count": 5,
   "metadata": {},
   "outputs": [
    {
     "name": "stdout",
     "output_type": "stream",
     "text": [
      "The realized annualized volatility is: 13.12%\n"
     ]
    }
   ],
   "source": [
    "import numpy as np\n",
    "\n",
    "def calculate_realized_volatility(prices):\n",
    "    # Calculate daily returns\n",
    "    daily_returns = (prices[1:] / prices[:-1]) - 1\n",
    "\n",
    "    # Calculate the daily mean return\n",
    "    daily_mean_return = np.mean(np.log(1 + daily_returns))\n",
    "\n",
    "    # Calculate the daily volatility\n",
    "    daily_volatility = np.sqrt(np.mean((np.log(1 + daily_returns) - daily_mean_return) ** 2))\n",
    "\n",
    "    # Annualize the volatility\n",
    "    annualized_volatility = daily_volatility * np.sqrt(252)\n",
    "\n",
    "    return annualized_volatility\n",
    "\n",
    "# Sample data: AAPL historical adjusted closing prices\n",
    "data = np.array([150.00, 152.30, 153.20, 151.80, 152.50, 150.70, 151.25, 152.80, 153.75, 155.00])\n",
    "\n",
    "# Call the function and print the result\n",
    "realized_volatility = calculate_realized_volatility(data)\n",
    "print(f\"The realized annualized volatility is: {realized_volatility:.2%}\")\n"
   ]
  },
  {
   "cell_type": "markdown",
   "metadata": {},
   "source": [
    "### Stephen's Challenge Question\n",
    "\n",
    "Greg did not take Math 176/Econ 135. However his uncle works at J.P Morgan and Greg got a job there pricing american put options. Greg thinks american put options are priced the same way as european put options and thus uses the black scholes formula to price the american options. You observe $C_E(S, t)=\\$10$. The time to expiration $T-t$ is 1 year and the interest rate is $5\\%$. For wich values of $E$ does there exist an oppertunity for arbitrage?\n"
   ]
  },
  {
   "cell_type": "markdown",
   "metadata": {},
   "source": [
    "#### Solution\n",
    "\n",
    "If a american put is priced like a european put, arbitrage exists if $P_E(S, t)<E-S$, i.e. if the put price is less than the intrinsic value. Rearranging the put call parity, we see $$  P_E(S, t)-C_E(S, t)-E\\cdot(e^{-r(T-t)}-1) =  E - S .$$\n",
    "\n",
    "So arbitrage exists if $C_E(S, t)+E\\cdot(e^{-r(T-t)}-1)<0$.\n",
    "\n",
    "Plugging in our numbers, arbitrage exists if $E>\\$ 205.04$.\n",
    "\n"
   ]
  }
 ],
 "metadata": {
  "kernelspec": {
   "display_name": "bridge_test",
   "language": "python",
   "name": "python3"
  },
  "language_info": {
   "codemirror_mode": {
    "name": "ipython",
    "version": 3
   },
   "file_extension": ".py",
   "mimetype": "text/x-python",
   "name": "python",
   "nbconvert_exporter": "python",
   "pygments_lexer": "ipython3",
   "version": "3.11.4"
  }
 },
 "nbformat": 4,
 "nbformat_minor": 2
}

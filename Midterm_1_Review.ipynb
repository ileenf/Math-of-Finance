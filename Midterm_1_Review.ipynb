{
 "cells": [
  {
   "cell_type": "markdown",
   "metadata": {},
   "source": [
    "## Sports Betting \n",
    "\n",
    "### Fractional Odds\n",
    "- **Format**: Profit relative to stake, shown as a fraction.\n",
    "- **Example**: Odds of 3/1 (read as \"three-to-one\") mean for every $1 bet, profit is $3.\n",
    "- **Probability**: Odds of a/b imply a probability of $\\frac{1}{(a/b)+1}$ of winning\n",
    "\n",
    "## Arbitrage Conditions in Sports Betting\n",
    "\n",
    "Arbitrage in sports betting occurs when you can place bets on all possible outcomes of an event and still guarantee a profit, regardless of the result.\n",
    "\n",
    "### Scenario\n",
    "- Bet on Team A with odds of $O_A:1$, betting an amount $x$.\n",
    "- Bet on Team B with odds of $O_B:1$, betting an amount $n - x$.\n",
    "\n",
    "### Profit Equations\n",
    "- **Profit if Team A wins**: $-(n - x) + O_A \\times x$\n",
    "- **Profit if Team B wins**: $O_B \\times (n - x) -  x$\n",
    "\n",
    "### Arbitrage Conditions\n",
    "To ensure a guaranteed fixed profit (or loss) $p^*$ regardless of the outcome, we set the profits equal:\n",
    "\n",
    "$$ \\text{Profit (Team A wins)} = \\text{Profit (Team B wins)} $$\n",
    "\n",
    "This leads to the following solutions for the optimal betting amount $x^*$ and fixed profit $p^*$:\n",
    "\n",
    "- **Optimal Betting Amount on Team A** ($x^*$):\n",
    "  $$ x^* = \\frac{n(1 + O_B)}{2 + O_A + O_B} $$\n",
    "- **Fixed Profit** ($p^*$):\n",
    "  $$ p^* = \\frac{n(O_A \\times O_B - 1)}{2 + O_A + O_B} $$\n",
    "\n",
    "### Condition for Positive Profit\n",
    "For $p^*$ to be positive (indicating an arbitrage opportunity):\n",
    "\n",
    "$$ O_A \\times O_B > 1 $$\n",
    "\n",
    "If $O_A \\times O_B > 1$, a risk-free profit opportunity exists."
   ]
  },
  {
   "cell_type": "markdown",
   "metadata": {},
   "source": [
    "##  Options\n",
    "\n",
    "Options are financial derivatives that give buyers the right, but not the obligation, to buy or sell an underlying asset at a specified price, known as the strike price, before a certain expiration date. \n",
    "\n",
    "### Long and Short Positions\n",
    "\n",
    "- **Long Position (Buying an Option):** The buyer of the option holds a long position. They have the right to exercise the option.\n",
    "- **Short Position (Selling/Writing an Option):** The seller or writer of the option holds a short position. They have the obligation to fulfill the contract if the buyer exercises the option.\n",
    "\n",
    "### Call and Put Options\n",
    "\n",
    "- **Call Option:** Gives the holder the right to buy the underlying asset.\n",
    "- **Put Option:** Gives the holder the right to sell the underlying asset.\n",
    "\n",
    "### Profit Equations for Options\n",
    "\n",
    "The profit for options can be calculated as follows:\n",
    "\n",
    "- **Call Option Profit:**\n",
    "  $$\\text{Profit} = \\max(S - E, 0) - \\text{Premium}$$\n",
    "  Where $S$ is the spot price of the underlying asset and $E$ is the strike price.\n",
    "\n",
    "- **Put Option Profit:**\n",
    "  $$\\text{Profit} = \\max(E - S, 0) - \\text{Premium}$$\n",
    "  Where $S$ is the spot price of the underlying asset and $E$ is the strike price.\n",
    "\n",
    "### Put-Call Parity Equation\n",
    "\n",
    "The put-call parity  principle in options pricing that explains the relationship between the price of call and put options with the same strike price and expiration date. \n",
    "\n",
    "The put-call parity equation is given by:\n",
    "\n",
    "$$ S + P_E(S, t) = C_E(S, t) + Ee^{-r(T-t)} $$\n",
    "\n"
   ]
  },
  {
   "cell_type": "markdown",
   "metadata": {},
   "source": [
    "## Probability \n",
    "\n",
    "\n",
    "### Expected Value (Mean)\n",
    "The expected value represents the average outcome in a long series of experiments.\n",
    "\n",
    "- **Discrete Variable** ($X$): \n",
    "  $$E(X) = \\sum_{i} x_i P(x_i)$$\n",
    "  Where $x_i$ are values and $P(x_i)$ their probabilities.\n",
    "\n",
    "- **Continuous Variable** ($X$): \n",
    "  $$E(X) = \\int_{-\\infty}^{\\infty} x f(x) \\, dx$$\n",
    "  Where $f(x)$ is the probability density function.\n",
    "\n",
    "### Variance\n",
    "Variance measures the spread of a random variable's values around its mean.\n",
    "\n",
    "- **For Variables $X$**: \n",
    "  $$Var(X) = E[(X - E(X))^2] = E(X^2) - [E(X)]^2$$\n",
    "\n",
    "## Normal Distribution\n",
    "\n",
    "The normal distribution, also called the Gaussian distribution, is a  probability distribution that is defined by two parameters: the mean ($\\mu $) and the standard deviation ($ \\sigma $).\n",
    "\n",
    "### Probability Density Function (PDF)\n",
    "The PDF of the normal distribution is:\n",
    "\n",
    "$$ f(x|\\mu,\\sigma^2) = \\frac{1}{\\sqrt{2\\pi\\sigma^2}} \\exp\\left(-\\frac{(x-\\mu)^2}{2\\sigma^2}\\right) $$\n",
    "\n",
    "where $ x $ is a real number, $ \\mu $ is the mean, and $ \\sigma^2 $ is the variance.\n",
    "\n",
    "## Central Limit Theorem (CLT)\n",
    "\n",
    "The Central Limit Theorem states that the distribution of the normalized version of a sum of independent, identically distributed variables approaches a normal distribution, irrespective of the original distribution of the variables.\n",
    "\n",
    "Let $ X_1, X_2, \\ldots, X_n $ be a sequence of i.i.d. random variables with expected value $ E(X_i) = \\mu $ and variance $ \\text{Var}(X_i) = \\sigma^2$. The CLT tells us that as $ n $ becomes large, the random variable\n",
    "\n",
    "$$ Z_n = \\frac{\\sum_{i=1}^{n}X_i - n\\mu}{\\sigma\\sqrt{n}} $$\n",
    "\n",
    "converges in distribution to a standard normal distribution $ Z_n \\xrightarrow{d} N(0,1) $.\n"
   ]
  },
  {
   "cell_type": "markdown",
   "metadata": {},
   "source": [
    "## Taylor Series\n",
    "\n",
    "The Taylor Series expresses a function as an infinite sum of terms calculated from its derivatives at a single point. \n",
    "\n",
    "### Definition\n",
    "For a function $ f(x) $ that is infinitely differentiable at a point $ a $, the Taylor Series of $ f $ at $ a $ is defined as:\n",
    "\n",
    "$$ f(x) = \\sum_{n=0}^{\\infty} \\frac{f^{(n)}(a)}{n!}(x - a)^n $$\n",
    "\n",
    "where:\n",
    "- $ f^{(n)}(a) $ is the $ n$-th derivative of $ f $ evaluated at the point $ a $,\n",
    "- $ n! $ is the factorial of $ n $,\n",
    "- $ (x - a)^n $ is the $ n $-th power of $ (x - a) $.\n",
    "\n",
    "## Multivariate Taylor Series \n",
    "\n",
    "Let's take a multivariate function of two variables $f(x, y) $. The third-order Taylor Series expansion around the point $ (a, b)  $ is:\n",
    "\n",
    "$$\n",
    "f(x, y) \\approx f(a, b) + \\frac{\\partial f}{\\partial x}(a,b)(x - a) + \\frac{\\partial f}{\\partial y}(a,b)(y - b)$$\n",
    "$$+\\frac{1}{2!}\\left( \\frac{\\partial^2 f}{\\partial x^2}(a,b)(x - a)^2 + 2\\frac{\\partial^2 f}{\\partial x \\partial y}(a,b)(x - a)(y - b) + \\frac{\\partial^2 f}{\\partial y^2}(a,b)(y - b)^2 \\right)$$\n",
    "$$+ \\frac{1}{3!}\\left( \\frac{\\partial^3 f}{\\partial x^3}(a,b)(x - a)^3 + 3\\frac{\\partial^3 f}{\\partial x^2 \\partial y}(a,b)(x - a)^2(y - b) + 3\\frac{\\partial^3 f}{\\partial x \\partial y^2}(a,b)(x - a)(y - b)^2 + \\frac{\\partial^3 f}{\\partial y^3}(a,b)(y - b)^3 \\right)\n",
    "\n",
    "\n",
    "\n",
    "\n"
   ]
  },
  {
   "cell_type": "markdown",
   "metadata": {},
   "source": [
    "## Transformation of Variables\n",
    "If we apply a transformation $g(x)$ to a random variable $ X $ then its pdf $ p_X(x) $ changes. If $ g(x) $ is a monotonic function then the pdf $ p_Y(y) $ of the transformed random variable $ Y =g(X)$ can be computed with\n",
    "\n",
    "$$\n",
    "p_Y(y) = p_X(g^{-1}(y)) \\left| \\frac{d}{dy} (g^{-1}(y)) \\right|\n",
    "$$\n",
    "\n",
    "where $ g^{-1} $ describes the inverse function of $ g $.\n"
   ]
  },
  {
   "cell_type": "markdown",
   "metadata": {},
   "source": [
    "x = amount bet with Guangchu\n",
    "\n",
    "\n",
    "|                  | chiefs Win  | 49ers Win     | \n",
    "|------------------|---------------|--------------|\n",
    "| Guangchu         | -x            | +5x          |\n",
    "| Frank            | +7/5(240-x)      | -(240-x)    |"
   ]
  },
  {
   "cell_type": "code",
   "execution_count": 29,
   "metadata": {},
   "outputs": [
    {
     "name": "stdout",
     "output_type": "stream",
     "text": [
      "Arbitrage Opportunity: True\n",
      "Amount to bet on Team chiefs: 40.0\n",
      "Maximum Arbitrage Value: 100.00\n"
     ]
    }
   ],
   "source": [
    "def calculate_arbitrage(odds1, odds2, n):\n",
    "    \"\"\"Determines if there's an arbitrage opportunity and calculates the maximum arbitrage value.\"\"\"\n",
    "    product = odds1 * odds2\n",
    "    # if product < 1:\n",
    "    #     return False, 0, \"Don't invest any money!\"  # No arbitrage opportunity\n",
    "    x=n*(1+odds2)/(2+odds1+odds2)\n",
    "    # x = 0\n",
    "    max_arbitrage_value = n*(product-1)/(2+odds1+odds2)\n",
    "    return True, max_arbitrage_value, round(x,2)\n",
    "\n",
    "# Problem 1  fractional odds\n",
    "odds_team_chiefs = 5/1\n",
    "odds_team_49ers = 7/5\n",
    "\n",
    "\n",
    "# Calculate arbitrage\n",
    "is_arbitrage, max_arbitrage_value, x = calculate_arbitrage(odds_team_chiefs, odds_team_49ers, 140)\n",
    "\n",
    "print(f\"Arbitrage Opportunity: {is_arbitrage}\")\n",
    "print(f\"Amount to bet on Team chiefs: {x}\")\n",
    "print(f\"Maximum Arbitrage Value: {max_arbitrage_value:.2f}\")"
   ]
  },
  {
   "cell_type": "code",
   "execution_count": 9,
   "metadata": {},
   "outputs": [
    {
     "name": "stdout",
     "output_type": "stream",
     "text": [
      "210\n"
     ]
    },
    {
     "data": {
      "text/plain": [
       "205"
      ]
     },
     "execution_count": 9,
     "metadata": {},
     "output_type": "execute_result"
    }
   ],
   "source": [
    "# S + P = C + Ee^(-r(T-t))\n",
    "LHS  = 150 + 60\n",
    "RHS = 5 + 200\n",
    "print(LHS)\n",
    "RHS"
   ]
  },
  {
   "cell_type": "code",
   "execution_count": null,
   "metadata": {},
   "outputs": [],
   "source": [
    "# Given values\n",
    "C = 5  # Price of the call option\n",
    "P = 60  # Price of the put option\n",
    "E = 200  # Strike price\n",
    "S =  150 # Current stock price\n",
    "r = 0  # Interest rate\n",
    "T = 1  # Time to expiration in years\n",
    "\n",
    "# Calculate the present value of the strike price\n",
    "E_discounted = E * np.exp(-r * T)\n",
    "\n",
    "# Calculate the left-hand side (LHS) and right-hand side (RHS) of the equation\n",
    "LHS = C + E_discounted\n",
    "RHS = P + S\n",
    "\n",
    "# Determine if there is an arbitrage opportunity and suggest strategy\n",
    "if LHS > RHS:\n",
    "    # LHS is overpriced, sell the call, buy the put, and invest the strike price at risk-free rate\n",
    "    arbitrage_amount = LHS - RHS\n",
    "    strategy = f\"Sell the call option for ${C:.2f}, buy the put option for ${P:.2f}, take out a loan of ${E_discounted:.2f}, buy the stock at ${S:.2f} \"\n",
    "elif LHS < RHS:\n",
    "    # RHS is overpriced, buy the call, sell the put, and borrow the strike price at risk-free rate\n",
    "    arbitrage_amount = RHS - LHS\n",
    "    strategy = f\"Buy the call option for ${C:.2f}, sell the put option for ${P:.2f}, sell (short) the stock at ${S:.2f}, invest ${E_discounted:.2f} in the risk free asset.\"\n",
    "else:\n",
    "    # No arbitrage opportunity exists\n",
    "    arbitrage_amount = 0\n",
    "    strategy = \"No arbitrage opportunity is available.\"\n",
    "\n",
    "print(f\"Arbitrage opportunity of ${arbitrage_amount:.2f} exists.\")\n",
    "print(\"Strategy:\", strategy)\n"
   ]
  },
  {
   "cell_type": "code",
   "execution_count": 23,
   "metadata": {},
   "outputs": [
    {
     "name": "stdout",
     "output_type": "stream",
     "text": [
      "[  0. 196.]\n"
     ]
    }
   ],
   "source": [
    "import numpy as np\n",
    "def calculate_arbitrage_profit(odds, bets):\n",
    "    \"\"\"Calculates the arbitrage profit given the odds and the bets.\"\"\"\n",
    "    payouts = np.array(odds) * np.array(bets)\n",
    "    print(payouts)\n",
    "    profit = 2*np.min(payouts) - sum(bets)\n",
    "    return profit\n",
    "\n",
    "\n",
    "profit = calculate_arbitrage_profit([5, 7/5], [0, 140])\n"
   ]
  },
  {
   "cell_type": "code",
   "execution_count": null,
   "metadata": {},
   "outputs": [],
   "source": []
  }
 ],
 "metadata": {
  "kernelspec": {
   "display_name": "bridge_test",
   "language": "python",
   "name": "python3"
  },
  "language_info": {
   "codemirror_mode": {
    "name": "ipython",
    "version": 3
   },
   "file_extension": ".py",
   "mimetype": "text/x-python",
   "name": "python",
   "nbconvert_exporter": "python",
   "pygments_lexer": "ipython3",
   "version": "3.9.6"
  }
 },
 "nbformat": 4,
 "nbformat_minor": 2
}
